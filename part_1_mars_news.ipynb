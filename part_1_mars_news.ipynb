{
 "cells": [
  {
   "cell_type": "markdown",
   "metadata": {},
   "source": [
    "# Module 12 Challenge\n",
    "## Deliverable 1: Scrape Titles and Preview Text from Mars News"
   ]
  },
  {
   "cell_type": "code",
   "execution_count": 1,
   "metadata": {},
   "outputs": [],
   "source": [
    "# Import Splinter and BeautifulSoup\n",
    "from splinter import Browser\n",
    "from bs4 import BeautifulSoup as soup\n",
    "from webdriver_manager.chrome import ChromeDriverManager"
   ]
  },
  {
   "cell_type": "code",
   "execution_count": 2,
   "metadata": {
    "scrolled": true
   },
   "outputs": [
    {
     "name": "stderr",
     "output_type": "stream",
     "text": [
      "[WDM] - Downloading: 100%|█████████████████| 8.84M/8.84M [00:02<00:00, 4.08MB/s]\n"
     ]
    }
   ],
   "source": [
    "executable_path = {'executable_path': ChromeDriverManager().install()}\n",
    "browser = Browser('chrome', **executable_path, headless=False)"
   ]
  },
  {
   "cell_type": "markdown",
   "metadata": {},
   "source": [
    "### Step 1: Visit the Website\n",
    "\n",
    "1. Use automated browsing to visit the [Mars NASA news site](https://redplanetscience.com). Inspect the page to identify which elements to scrape.\n",
    "\n",
    "      > **Hint** To identify which elements to scrape, you might want to inspect the page by using Chrome DevTools."
   ]
  },
  {
   "cell_type": "code",
   "execution_count": 3,
   "metadata": {},
   "outputs": [],
   "source": [
    "# Visit the Mars NASA news site: https://redplanetscience.com\n",
    "url = 'https://redplanetscience.com'\n",
    "browser.visit(url)"
   ]
  },
  {
   "cell_type": "markdown",
   "metadata": {},
   "source": [
    "### Step 2: Scrape the Website\n",
    "\n",
    "Create a Beautiful Soup object and use it to extract text elements from the website."
   ]
  },
  {
   "cell_type": "code",
   "execution_count": 4,
   "metadata": {},
   "outputs": [],
   "source": [
    "# Create a Beautiful Soup object\n",
    "html = browser.html\n",
    "news_soup = soup(html, 'html.parser')"
   ]
  },
  {
   "cell_type": "code",
   "execution_count": 5,
   "metadata": {},
   "outputs": [
    {
     "name": "stdout",
     "output_type": "stream",
     "text": [
      "[<div class=\"list_text\">\n",
      "<div class=\"list_date\">March 31, 2023</div>\n",
      "<div class=\"content_title\">NASA's Mars Reconnaissance Orbiter Undergoes Memory Update</div>\n",
      "<div class=\"article_teaser_body\">Other orbiters will continue relaying data from Mars surface missions for a two-week period.</div>\n",
      "</div>, <div class=\"list_text\">\n",
      "<div class=\"list_date\">March 30, 2023</div>\n",
      "<div class=\"content_title\">NASA's Perseverance Rover Will Look at Mars Through These 'Eyes'</div>\n",
      "<div class=\"article_teaser_body\">A pair of zoomable cameras will help scientists and rover drivers with high-resolution color images.</div>\n",
      "</div>, <div class=\"list_text\">\n",
      "<div class=\"list_date\">March 30, 2023</div>\n",
      "<div class=\"content_title\">NASA's Perseverance Rover Attached to Atlas V Rocket</div>\n",
      "<div class=\"article_teaser_body\">Ready for its launch later in the month, the Mars-bound rover will touch terra firma no more.</div>\n",
      "</div>, <div class=\"list_text\">\n",
      "<div class=\"list_date\">March 28, 2023</div>\n",
      "<div class=\"content_title\">NASA Invites Students to Name Mars 2020 Rover</div>\n",
      "<div class=\"article_teaser_body\">Through Nov. 1, K-12 students in the U.S. are encouraged to enter an essay contest to name NASA's next Mars rover.</div>\n",
      "</div>, <div class=\"list_text\">\n",
      "<div class=\"list_date\">March 28, 2023</div>\n",
      "<div class=\"content_title\">NASA's Mars Rover Drivers Need Your Help</div>\n",
      "<div class=\"article_teaser_body\">Using an online tool to label Martian terrain types, you can train an artificial intelligence algorithm that could improve the way engineers guide the Curiosity rover.</div>\n",
      "</div>, <div class=\"list_text\">\n",
      "<div class=\"list_date\">March 25, 2023</div>\n",
      "<div class=\"content_title\">NASA Perseverance Mars Rover Scientists Train in the Nevada Desert</div>\n",
      "<div class=\"article_teaser_body\">Team members searched for signs of ancient microscopic life there, just as NASA's latest rover will on the Red Planet next year.</div>\n",
      "</div>, <div class=\"list_text\">\n",
      "<div class=\"list_date\">March 24, 2023</div>\n",
      "<div class=\"content_title\">NASA's Mars 2020 Comes Full Circle</div>\n",
      "<div class=\"article_teaser_body\">Aiming to pinpoint the Martian vehicle's center of gravity, engineers took NASA's 2,300-pound Mars 2020 rover for a spin in the clean room at JPL. </div>\n",
      "</div>, <div class=\"list_text\">\n",
      "<div class=\"list_date\">March 23, 2023</div>\n",
      "<div class=\"content_title\">Screening Soon: 'The Pathfinders' Trains Lens on Mars</div>\n",
      "<div class=\"article_teaser_body\">With the Mars 2020 mission ramping up, the documentary — the first of four about past JPL missions to the Red Planet to be shown at Caltech — tells a gripping backstory.</div>\n",
      "</div>, <div class=\"list_text\">\n",
      "<div class=\"list_date\">March 19, 2023</div>\n",
      "<div class=\"content_title\">NASA Wins 4 Webbys, 4 People's Voice Awards</div>\n",
      "<div class=\"article_teaser_body\">Winners include the JPL-managed \"Send Your Name to Mars\" campaign, NASA's Global Climate Change website and Solar System Interactive.</div>\n",
      "</div>, <div class=\"list_text\">\n",
      "<div class=\"list_date\">March 12, 2023</div>\n",
      "<div class=\"content_title\">Alabama High School Student Names NASA's Mars Helicopter</div>\n",
      "<div class=\"article_teaser_body\">Vaneeza Rupani's essay was chosen as the name for the small spacecraft, which will mark NASA's first attempt at powered flight on another planet.</div>\n",
      "</div>, <div class=\"list_text\">\n",
      "<div class=\"list_date\">March 11, 2023</div>\n",
      "<div class=\"content_title\">Common Questions about InSight's 'Mole'</div>\n",
      "<div class=\"article_teaser_body\">The following Q&amp;As with members of the team answer some of the most common questions about the burrowing device, part of a science instrument called the Heat Flow and Physical Properties Package (HP3).</div>\n",
      "</div>, <div class=\"list_text\">\n",
      "<div class=\"list_date\">March 10, 2023</div>\n",
      "<div class=\"content_title\">NASA's Ingenuity Mars Helicopter Recharges Its Batteries in Flight</div>\n",
      "<div class=\"article_teaser_body\">Headed to the Red Planet with the Perseverance rover, the pioneering helicopter is powered up for the first time in interplanetary space as part of a systems check.</div>\n",
      "</div>, <div class=\"list_text\">\n",
      "<div class=\"list_date\">March 8, 2023</div>\n",
      "<div class=\"content_title\">Mars InSight Lander to Push on Top of the 'Mole'</div>\n",
      "<div class=\"article_teaser_body\">Engineers have a plan for pushing down on the heat probe, which has been stuck at the Martian surface for a year.</div>\n",
      "</div>, <div class=\"list_text\">\n",
      "<div class=\"list_date\">March 8, 2023</div>\n",
      "<div class=\"content_title\">Two of a Space Kind: Apollo 12 and Mars 2020</div>\n",
      "<div class=\"article_teaser_body\">Apollo 12 and the upcoming Mars 2020 mission may be separated by half a century, but they share several goals unique in the annals of space exploration.</div>\n",
      "</div>, <div class=\"list_text\">\n",
      "<div class=\"list_date\">March 5, 2023</div>\n",
      "<div class=\"content_title\">Mars Is Getting a New Robotic Meteorologist</div>\n",
      "<div class=\"article_teaser_body\">Sensors on NASA's Perseverance will help prepare for future human exploration by taking weather measurements and studying dust particles.</div>\n",
      "</div>]\n"
     ]
    }
   ],
   "source": [
    "# Extract all the text elements\n",
    "slide_elem = news_soup.find_all('div', class_=\"list_text\")\n",
    "print(slide_elem)"
   ]
  },
  {
   "cell_type": "markdown",
   "metadata": {},
   "source": [
    "### Step 3: Store the Results\n",
    "\n",
    "Extract the titles and preview text of the news articles that you scraped. Store the scraping results in Python data structures as follows:\n",
    "\n",
    "* Store each title-and-preview pair in a Python dictionary. And, give each dictionary two keys: `title` and `preview`. An example is the following:\n",
    "\n",
    "  ```python\n",
    "  {'title': \"Mars Rover Begins Mission!\", \n",
    "        'preview': \"NASA's Mars Rover begins a multiyear mission to collect data about the little-explored planet.\"}\n",
    "  ```\n",
    "\n",
    "* Store all the dictionaries in a Python list.\n",
    "\n",
    "* Print the list in your notebook."
   ]
  },
  {
   "cell_type": "code",
   "execution_count": 6,
   "metadata": {},
   "outputs": [],
   "source": [
    "# Create an empty list to store the dictionaries\n",
    "news_items=[]"
   ]
  },
  {
   "cell_type": "code",
   "execution_count": 7,
   "metadata": {},
   "outputs": [],
   "source": [
    "# Loop through the text elements\n",
    "# Extract the title and preview text from the elements\n",
    "# Store each title and preview pair in a dictionary\n",
    "# Add the dictionary to the list\n",
    "for item in slide_elem:\n",
    "    title = item.find('div', class_='content_title').text\n",
    "    preview = item.find('div', class_='article_teaser_body').text\n",
    "    news_item = {}\n",
    "    news_item['title'] = title\n",
    "    news_item['preview'] = preview\n",
    "    news_items.append(news_item)"
   ]
  },
  {
   "cell_type": "code",
   "execution_count": 8,
   "metadata": {},
   "outputs": [
    {
     "name": "stdout",
     "output_type": "stream",
     "text": [
      "[{'title': \"NASA's Mars Reconnaissance Orbiter Undergoes Memory Update\", 'preview': 'Other orbiters will continue relaying data from Mars surface missions for a two-week period.'}, {'title': \"NASA's Perseverance Rover Will Look at Mars Through These 'Eyes'\", 'preview': 'A pair of zoomable cameras will help scientists and rover drivers with high-resolution color images.'}, {'title': \"NASA's Perseverance Rover Attached to Atlas V Rocket\", 'preview': 'Ready for its launch later in the month, the Mars-bound rover will touch terra firma no more.'}, {'title': 'NASA Invites Students to Name Mars 2020 Rover', 'preview': \"Through Nov. 1, K-12 students in the U.S. are encouraged to enter an essay contest to name NASA's next Mars rover.\"}, {'title': \"NASA's Mars Rover Drivers Need Your Help\", 'preview': 'Using an online tool to label Martian terrain types, you can train an artificial intelligence algorithm that could improve the way engineers guide the Curiosity rover.'}, {'title': 'NASA Perseverance Mars Rover Scientists Train in the Nevada Desert', 'preview': \"Team members searched for signs of ancient microscopic life there, just as NASA's latest rover will on the Red Planet next year.\"}, {'title': \"NASA's Mars 2020 Comes Full Circle\", 'preview': \"Aiming to pinpoint the Martian vehicle's center of gravity, engineers took NASA's 2,300-pound Mars 2020 rover for a spin in the clean room at JPL. \"}, {'title': \"Screening Soon: 'The Pathfinders' Trains Lens on Mars\", 'preview': 'With the Mars 2020 mission ramping up, the documentary — the first of four about past JPL missions to the Red Planet to be shown at Caltech — tells a gripping backstory.'}, {'title': \"NASA Wins 4 Webbys, 4 People's Voice Awards\", 'preview': 'Winners include the JPL-managed \"Send Your Name to Mars\" campaign, NASA\\'s Global Climate Change website and Solar System Interactive.'}, {'title': \"Alabama High School Student Names NASA's Mars Helicopter\", 'preview': \"Vaneeza Rupani's essay was chosen as the name for the small spacecraft, which will mark NASA's first attempt at powered flight on another planet.\"}, {'title': \"Common Questions about InSight's 'Mole'\", 'preview': 'The following Q&As with members of the team answer some of the most common questions about the burrowing device, part of a science instrument called the Heat Flow and Physical Properties Package (HP3).'}, {'title': \"NASA's Ingenuity Mars Helicopter Recharges Its Batteries in Flight\", 'preview': 'Headed to the Red Planet with the Perseverance rover, the pioneering helicopter is powered up for the first time in interplanetary space as part of a systems check.'}, {'title': \"Mars InSight Lander to Push on Top of the 'Mole'\", 'preview': 'Engineers have a plan for pushing down on the heat probe, which has been stuck at the Martian surface for a year.'}, {'title': 'Two of a Space Kind: Apollo 12 and Mars 2020', 'preview': 'Apollo 12 and the upcoming Mars 2020 mission may be separated by half a century, but they share several goals unique in the annals of space exploration.'}, {'title': 'Mars Is Getting a New Robotic Meteorologist', 'preview': \"Sensors on NASA's Perseverance will help prepare for future human exploration by taking weather measurements and studying dust particles.\"}]\n"
     ]
    }
   ],
   "source": [
    "# Print the list to confirm success\n",
    "print(news_items)"
   ]
  },
  {
   "cell_type": "code",
   "execution_count": 9,
   "metadata": {},
   "outputs": [],
   "source": [
    "browser.quit()"
   ]
  },
  {
   "cell_type": "markdown",
   "metadata": {},
   "source": [
    "### (Optional) Step 4: Export the Data\n",
    "\n",
    "Optionally, store the scraped data in a file or database (to ease sharing the data with others). To do so, export the scraped data to either a JSON file or a MongoDB database."
   ]
  },
  {
   "cell_type": "code",
   "execution_count": 11,
   "metadata": {},
   "outputs": [
    {
     "name": "stdout",
     "output_type": "stream",
     "text": [
      "[\n",
      "    {\n",
      "        \"title\": \"NASA's Mars Reconnaissance Orbiter Undergoes Memory Update\",\n",
      "        \"preview\": \"Other orbiters will continue relaying data from Mars surface missions for a two-week period.\"\n",
      "    },\n",
      "    {\n",
      "        \"title\": \"NASA's Perseverance Rover Will Look at Mars Through These 'Eyes'\",\n",
      "        \"preview\": \"A pair of zoomable cameras will help scientists and rover drivers with high-resolution color images.\"\n",
      "    },\n",
      "    {\n",
      "        \"title\": \"NASA's Perseverance Rover Attached to Atlas V Rocket\",\n",
      "        \"preview\": \"Ready for its launch later in the month, the Mars-bound rover will touch terra firma no more.\"\n",
      "    },\n",
      "    {\n",
      "        \"title\": \"NASA Invites Students to Name Mars 2020 Rover\",\n",
      "        \"preview\": \"Through Nov. 1, K-12 students in the U.S. are encouraged to enter an essay contest to name NASA's next Mars rover.\"\n",
      "    },\n",
      "    {\n",
      "        \"title\": \"NASA's Mars Rover Drivers Need Your Help\",\n",
      "        \"preview\": \"Using an online tool to label Martian terrain types, you can train an artificial intelligence algorithm that could improve the way engineers guide the Curiosity rover.\"\n",
      "    },\n",
      "    {\n",
      "        \"title\": \"NASA Perseverance Mars Rover Scientists Train in the Nevada Desert\",\n",
      "        \"preview\": \"Team members searched for signs of ancient microscopic life there, just as NASA's latest rover will on the Red Planet next year.\"\n",
      "    },\n",
      "    {\n",
      "        \"title\": \"NASA's Mars 2020 Comes Full Circle\",\n",
      "        \"preview\": \"Aiming to pinpoint the Martian vehicle's center of gravity, engineers took NASA's 2,300-pound Mars 2020 rover for a spin in the clean room at JPL. \"\n",
      "    },\n",
      "    {\n",
      "        \"title\": \"Screening Soon: 'The Pathfinders' Trains Lens on Mars\",\n",
      "        \"preview\": \"With the Mars 2020 mission ramping up, the documentary \\u2014 the first of four about past JPL missions to the Red Planet to be shown at Caltech \\u2014 tells a gripping backstory.\"\n",
      "    },\n",
      "    {\n",
      "        \"title\": \"NASA Wins 4 Webbys, 4 People's Voice Awards\",\n",
      "        \"preview\": \"Winners include the JPL-managed \\\"Send Your Name to Mars\\\" campaign, NASA's Global Climate Change website and Solar System Interactive.\"\n",
      "    },\n",
      "    {\n",
      "        \"title\": \"Alabama High School Student Names NASA's Mars Helicopter\",\n",
      "        \"preview\": \"Vaneeza Rupani's essay was chosen as the name for the small spacecraft, which will mark NASA's first attempt at powered flight on another planet.\"\n",
      "    },\n",
      "    {\n",
      "        \"title\": \"Common Questions about InSight's 'Mole'\",\n",
      "        \"preview\": \"The following Q&As with members of the team answer some of the most common questions about the burrowing device, part of a science instrument called the Heat Flow and Physical Properties Package (HP3).\"\n",
      "    },\n",
      "    {\n",
      "        \"title\": \"NASA's Ingenuity Mars Helicopter Recharges Its Batteries in Flight\",\n",
      "        \"preview\": \"Headed to the Red Planet with the Perseverance rover, the pioneering helicopter is powered up for the first time in interplanetary space as part of a systems check.\"\n",
      "    },\n",
      "    {\n",
      "        \"title\": \"Mars InSight Lander to Push on Top of the 'Mole'\",\n",
      "        \"preview\": \"Engineers have a plan for pushing down on the heat probe, which has been stuck at the Martian surface for a year.\"\n",
      "    },\n",
      "    {\n",
      "        \"title\": \"Two of a Space Kind: Apollo 12 and Mars 2020\",\n",
      "        \"preview\": \"Apollo 12 and the upcoming Mars 2020 mission may be separated by half a century, but they share several goals unique in the annals of space exploration.\"\n",
      "    },\n",
      "    {\n",
      "        \"title\": \"Mars Is Getting a New Robotic Meteorologist\",\n",
      "        \"preview\": \"Sensors on NASA's Perseverance will help prepare for future human exploration by taking weather measurements and studying dust particles.\"\n",
      "    }\n",
      "]\n"
     ]
    }
   ],
   "source": [
    "# Export data to JSON\n",
    "import json \n",
    "json_object = json.dumps(news_items, indent = 4) \n",
    "print(json_object)"
   ]
  },
  {
   "cell_type": "code",
   "execution_count": null,
   "metadata": {},
   "outputs": [],
   "source": [
    "# Export data to MongoDB\n"
   ]
  }
 ],
 "metadata": {
  "kernelspec": {
   "display_name": "Python 3 (ipykernel)",
   "language": "python",
   "name": "python3"
  },
  "language_info": {
   "codemirror_mode": {
    "name": "ipython",
    "version": 3
   },
   "file_extension": ".py",
   "mimetype": "text/x-python",
   "name": "python",
   "nbconvert_exporter": "python",
   "pygments_lexer": "ipython3",
   "version": "3.10.9"
  }
 },
 "nbformat": 4,
 "nbformat_minor": 4
}
